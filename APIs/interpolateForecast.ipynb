{
 "cells": [
  {
   "cell_type": "markdown",
   "metadata": {},
   "source": [
    "# Interpolate weather forecast data\n",
    "https://open-meteo.com/en/docs#latitude=47.3667&longitude=8.55&current=&minutely_15=temperature_2m,relative_humidity_2m,apparent_temperature,precipitation,wind_speed_10m,is_day,shortwave_radiation&hourly=cloud_cover&forecast_days=14"
   ]
  },
  {
   "cell_type": "code",
   "execution_count": 197,
   "metadata": {},
   "outputs": [
    {
     "data": {
      "text/html": [
       "<div>\n",
       "<style scoped>\n",
       "    .dataframe tbody tr th:only-of-type {\n",
       "        vertical-align: middle;\n",
       "    }\n",
       "\n",
       "    .dataframe tbody tr th {\n",
       "        vertical-align: top;\n",
       "    }\n",
       "\n",
       "    .dataframe thead th {\n",
       "        text-align: right;\n",
       "    }\n",
       "</style>\n",
       "<table border=\"1\" class=\"dataframe\">\n",
       "  <thead>\n",
       "    <tr style=\"text-align: right;\">\n",
       "      <th></th>\n",
       "      <th>date</th>\n",
       "      <th>temperature_2m</th>\n",
       "      <th>relative_humidity_2m</th>\n",
       "      <th>apparent_temperature</th>\n",
       "      <th>precipitation</th>\n",
       "      <th>wind_speed_10m</th>\n",
       "      <th>is_day</th>\n",
       "      <th>shortwave_radiation</th>\n",
       "    </tr>\n",
       "  </thead>\n",
       "  <tbody>\n",
       "    <tr>\n",
       "      <th>0</th>\n",
       "      <td>2024-10-11 02:00:00+02:00</td>\n",
       "      <td>11.4</td>\n",
       "      <td>88.0</td>\n",
       "      <td>10.23947</td>\n",
       "      <td>0.1</td>\n",
       "      <td>7.072878</td>\n",
       "      <td>0.0</td>\n",
       "      <td>0.0</td>\n",
       "    </tr>\n",
       "  </tbody>\n",
       "</table>\n",
       "</div>"
      ],
      "text/plain": [
       "                       date  temperature_2m  relative_humidity_2m  \\\n",
       "0 2024-10-11 02:00:00+02:00            11.4                  88.0   \n",
       "\n",
       "   apparent_temperature  precipitation  wind_speed_10m  is_day  \\\n",
       "0              10.23947            0.1        7.072878     0.0   \n",
       "\n",
       "   shortwave_radiation  \n",
       "0                  0.0  "
      ]
     },
     "execution_count": 197,
     "metadata": {},
     "output_type": "execute_result"
    }
   ],
   "source": [
    "# module imports\n",
    "import pandas as pd\n",
    "import numpy as np\n",
    "import matplotlib.pyplot as plt\n",
    "\n",
    "# data import\n",
    "min = pd.read_csv(\"minForecast.csv\")\n",
    "hour = pd.read_csv(\"hourlyForecast.csv\")\n",
    "\n",
    "\n",
    "hour['date'] = pd.to_datetime(hour['date']).dt.tz_convert(\"Europe/Berlin\")\n",
    "min['date'] = pd.to_datetime(min['date']).dt.tz_convert(\"Europe/Berlin\")\n"
   ]
  },
  {
   "cell_type": "code",
   "execution_count": 199,
   "metadata": {},
   "outputs": [],
   "source": [
    "lirp_min = min.set_index(\"date\")\n",
    "lirp_min = lirp_min.reindex(pd.date_range(start=min['date'].iloc[0],end=min['date'].iloc[-1], freq = pd.Timedelta(seconds=30)))\n",
    "lirp_min = lirp_min.interpolate(method=\"index\")\n",
    "\n",
    "lirp_hour = hour.set_index(\"date\")\n",
    "lirp_hour = lirp_hour.reindex(pd.date_range(start=min['date'].iloc[0],end=min['date'].iloc[-1], freq = pd.Timedelta(seconds=30)))\n",
    "lirp_hour = lirp_hour.interpolate(method=\"linear\")\n",
    "\n",
    "merged = pd.concat([lirp_min,lirp_hour], axis = 1)\n"
   ]
  },
  {
   "cell_type": "markdown",
   "metadata": {},
   "source": [
    "# Add other features"
   ]
  },
  {
   "cell_type": "code",
   "execution_count": 222,
   "metadata": {},
   "outputs": [],
   "source": [
    "merged['weekday'] = merged.index.weekday\n",
    "merged['minutes_since_midnight'] = merged.index.hour * 60 +  merged.index.minute\n",
    "\n",
    "merged['opened'] = 1\n",
    "merged.loc[merged['minutes_since_midnight'] > 22 * 60,'opened'] = 0\n",
    "merged.loc[merged['minutes_since_midnight'] < 6 * 60,'opened'] = 0\n",
    "# reorder\n",
    "merged = merged[['weekday', 'minutes_since_midnight', 'opened', 'temperature_2m',\n",
    "       'relative_humidity_2m', 'apparent_temperature',\n",
    "       'precipitation', 'cloud_cover', 'wind_speed_10m',\n",
    "       'shortwave_radiation', 'is_day']]\n",
    "\n",
    "merged.to_csv(f\"../data/forecast/forecast-{merged.index[0].date().isoformat()}.csv\")"
   ]
  },
  {
   "cell_type": "code",
   "execution_count": 220,
   "metadata": {},
   "outputs": [
    {
     "data": {
      "text/plain": [
       "'2024-10-11'"
      ]
     },
     "execution_count": 220,
     "metadata": {},
     "output_type": "execute_result"
    }
   ],
   "source": []
  }
 ],
 "metadata": {
  "kernelspec": {
   "display_name": "Python 3",
   "language": "python",
   "name": "python3"
  },
  "language_info": {
   "codemirror_mode": {
    "name": "ipython",
    "version": 3
   },
   "file_extension": ".py",
   "mimetype": "text/x-python",
   "name": "python",
   "nbconvert_exporter": "python",
   "pygments_lexer": "ipython3",
   "version": "3.12.7"
  }
 },
 "nbformat": 4,
 "nbformat_minor": 2
}
