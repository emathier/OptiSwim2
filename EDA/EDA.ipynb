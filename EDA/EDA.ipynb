{
 "cells": [
  {
   "metadata": {},
   "cell_type": "markdown",
   "source": [
    "# Exploratory data anaylsis\n",
    "Check validity and completness of data"
   ],
   "id": "deb28d263e39ae40"
  },
  {
   "cell_type": "code",
   "id": "initial_id",
   "metadata": {
    "collapsed": true,
    "ExecuteTime": {
     "end_time": "2024-09-07T15:27:53.535956Z",
     "start_time": "2024-09-07T15:27:52.817498Z"
    }
   },
   "source": [
    "# Imports\n",
    "import pandas as pd\n",
    "import numpy as np\n",
    "import matplotlib.pyplot as plt\n",
    "df = pd.read_csv(\"data/finalData2.csv\")\n",
    "df.drop(['Unnamed: 0'] , axis = 1, inplace = True)\n",
    "df['time'] = pd.to_datetime(df['time'])\n",
    "X,y = df.drop(['oerlikon', 'time','city'], axis = 1), df['city']\n",
    "print(f\"Read {df.size} datapoints\")\n",
    "df.head()"
   ],
   "outputs": [
    {
     "name": "stdout",
     "output_type": "stream",
     "text": [
      "Read 5779214 datapoints\n"
     ]
    },
    {
     "data": {
      "text/plain": [
       "                 time  city  oerlikon  weekday  minutes_since_midnight  \\\n",
       "0 2024-01-24 16:43:08   155       140        2                    1003   \n",
       "1 2024-01-24 16:43:38   154       140        2                    1003   \n",
       "2 2024-01-24 16:45:31   163       140        2                    1005   \n",
       "3 2024-01-24 16:46:02   163       141        2                    1006   \n",
       "4 2024-01-24 16:46:32   162       143        2                    1006   \n",
       "\n",
       "   opened  temperature_2m (°C)  relative_humidity_2m (%)  \\\n",
       "0    True            11.496778                 74.594444   \n",
       "1    True            11.490944                 74.636111   \n",
       "2    True            11.468972                 74.793056   \n",
       "3    True            11.462944                 74.836111   \n",
       "4    True            11.457111                 74.877778   \n",
       "\n",
       "   apparent_temperature (°C)  precipitation (mm)  cloud_cover (%)  \\\n",
       "0                   7.112444            0.243778            100.0   \n",
       "1                   7.109111            0.245444            100.0   \n",
       "2                   7.096556            0.251722            100.0   \n",
       "3                   7.093111            0.253444            100.0   \n",
       "4                   7.089778            0.255111            100.0   \n",
       "\n",
       "   wind_speed_10m (km/h)  shortwave_radiation (W/m²)  is_day ()  \n",
       "0                25.0060                   49.373333        1.0  \n",
       "1                24.9910                   49.273333        1.0  \n",
       "2                24.9345                   48.896667        1.0  \n",
       "3                24.9190                   48.793333        1.0  \n",
       "4                24.9040                   48.693333        1.0  "
      ],
      "text/html": [
       "<div>\n",
       "<style scoped>\n",
       "    .dataframe tbody tr th:only-of-type {\n",
       "        vertical-align: middle;\n",
       "    }\n",
       "\n",
       "    .dataframe tbody tr th {\n",
       "        vertical-align: top;\n",
       "    }\n",
       "\n",
       "    .dataframe thead th {\n",
       "        text-align: right;\n",
       "    }\n",
       "</style>\n",
       "<table border=\"1\" class=\"dataframe\">\n",
       "  <thead>\n",
       "    <tr style=\"text-align: right;\">\n",
       "      <th></th>\n",
       "      <th>time</th>\n",
       "      <th>city</th>\n",
       "      <th>oerlikon</th>\n",
       "      <th>weekday</th>\n",
       "      <th>minutes_since_midnight</th>\n",
       "      <th>opened</th>\n",
       "      <th>temperature_2m (°C)</th>\n",
       "      <th>relative_humidity_2m (%)</th>\n",
       "      <th>apparent_temperature (°C)</th>\n",
       "      <th>precipitation (mm)</th>\n",
       "      <th>cloud_cover (%)</th>\n",
       "      <th>wind_speed_10m (km/h)</th>\n",
       "      <th>shortwave_radiation (W/m²)</th>\n",
       "      <th>is_day ()</th>\n",
       "    </tr>\n",
       "  </thead>\n",
       "  <tbody>\n",
       "    <tr>\n",
       "      <th>0</th>\n",
       "      <td>2024-01-24 16:43:08</td>\n",
       "      <td>155</td>\n",
       "      <td>140</td>\n",
       "      <td>2</td>\n",
       "      <td>1003</td>\n",
       "      <td>True</td>\n",
       "      <td>11.496778</td>\n",
       "      <td>74.594444</td>\n",
       "      <td>7.112444</td>\n",
       "      <td>0.243778</td>\n",
       "      <td>100.0</td>\n",
       "      <td>25.0060</td>\n",
       "      <td>49.373333</td>\n",
       "      <td>1.0</td>\n",
       "    </tr>\n",
       "    <tr>\n",
       "      <th>1</th>\n",
       "      <td>2024-01-24 16:43:38</td>\n",
       "      <td>154</td>\n",
       "      <td>140</td>\n",
       "      <td>2</td>\n",
       "      <td>1003</td>\n",
       "      <td>True</td>\n",
       "      <td>11.490944</td>\n",
       "      <td>74.636111</td>\n",
       "      <td>7.109111</td>\n",
       "      <td>0.245444</td>\n",
       "      <td>100.0</td>\n",
       "      <td>24.9910</td>\n",
       "      <td>49.273333</td>\n",
       "      <td>1.0</td>\n",
       "    </tr>\n",
       "    <tr>\n",
       "      <th>2</th>\n",
       "      <td>2024-01-24 16:45:31</td>\n",
       "      <td>163</td>\n",
       "      <td>140</td>\n",
       "      <td>2</td>\n",
       "      <td>1005</td>\n",
       "      <td>True</td>\n",
       "      <td>11.468972</td>\n",
       "      <td>74.793056</td>\n",
       "      <td>7.096556</td>\n",
       "      <td>0.251722</td>\n",
       "      <td>100.0</td>\n",
       "      <td>24.9345</td>\n",
       "      <td>48.896667</td>\n",
       "      <td>1.0</td>\n",
       "    </tr>\n",
       "    <tr>\n",
       "      <th>3</th>\n",
       "      <td>2024-01-24 16:46:02</td>\n",
       "      <td>163</td>\n",
       "      <td>141</td>\n",
       "      <td>2</td>\n",
       "      <td>1006</td>\n",
       "      <td>True</td>\n",
       "      <td>11.462944</td>\n",
       "      <td>74.836111</td>\n",
       "      <td>7.093111</td>\n",
       "      <td>0.253444</td>\n",
       "      <td>100.0</td>\n",
       "      <td>24.9190</td>\n",
       "      <td>48.793333</td>\n",
       "      <td>1.0</td>\n",
       "    </tr>\n",
       "    <tr>\n",
       "      <th>4</th>\n",
       "      <td>2024-01-24 16:46:32</td>\n",
       "      <td>162</td>\n",
       "      <td>143</td>\n",
       "      <td>2</td>\n",
       "      <td>1006</td>\n",
       "      <td>True</td>\n",
       "      <td>11.457111</td>\n",
       "      <td>74.877778</td>\n",
       "      <td>7.089778</td>\n",
       "      <td>0.255111</td>\n",
       "      <td>100.0</td>\n",
       "      <td>24.9040</td>\n",
       "      <td>48.693333</td>\n",
       "      <td>1.0</td>\n",
       "    </tr>\n",
       "  </tbody>\n",
       "</table>\n",
       "</div>"
      ]
     },
     "execution_count": 70,
     "metadata": {},
     "output_type": "execute_result"
    }
   ],
   "execution_count": 70
  },
  {
   "metadata": {},
   "cell_type": "markdown",
   "source": [
    "# Check continuintiy of data\n",
    "To check wether the data scraping has holes or not. For better performance we are going to work with 50 min intervals in the data fro plotting."
   ],
   "id": "1170befabaa0fa6f"
  },
  {
   "metadata": {
    "ExecuteTime": {
     "end_time": "2024-09-07T15:14:39.038360Z",
     "start_time": "2024-09-07T15:14:38.327829Z"
    }
   },
   "cell_type": "code",
   "source": [
    "plt.scatter(df['time'], df['city'])\n",
    "plt.xlabel(\"Date\")\n",
    "plt.ylabel(\"Occupancy\")\n",
    "plt.title(\"Occupancy of City\")\n",
    "plt.show()"
   ],
   "id": "fc84e43b25a9e38c",
   "outputs": [
    {
     "data": {
      "text/plain": [
       "<Figure size 640x480 with 1 Axes>"
      ],
      "image/png": "[encoded data removed]"
     },
     "metadata": {},
     "output_type": "display_data"
    }
   ],
   "execution_count": 47
  },
  {
   "metadata": {},
   "cell_type": "markdown",
   "source": "As we can see there is some missing data in june. An there are some negative values present.",
   "id": "4cf5719820f66673"
  },
  {
   "metadata": {
    "ExecuteTime": {
     "end_time": "2024-09-07T15:14:41.477669Z",
     "start_time": "2024-09-07T15:14:41.377743Z"
    }
   },
   "cell_type": "code",
   "source": [
    "# Lets look at the distribution of city\n",
    "df['city'].hist( bins=50)"
   ],
   "id": "b712252f707fc090",
   "outputs": [
    {
     "data": {
      "text/plain": [
       "<Axes: >"
      ]
     },
     "execution_count": 48,
     "metadata": {},
     "output_type": "execute_result"
    },
    {
     "data": {
      "text/plain": [
       "<Figure size 640x480 with 1 Axes>"
      ],
      "image/png": "[encoded data removed]"
     },
     "metadata": {},
     "output_type": "display_data"
    }
   ],
   "execution_count": 48
  },
  {
   "metadata": {},
   "cell_type": "markdown",
   "source": "Excluding the Zero values which arise because of the the time when the pool is closed the data almost looks normaly distributed. Lets try and validate this hypothesis.",
   "id": "55d49d91fa17073"
  },
  {
   "metadata": {
    "ExecuteTime": {
     "end_time": "2024-09-07T15:14:43.883998Z",
     "start_time": "2024-09-07T15:14:43.731388Z"
    }
   },
   "cell_type": "code",
   "source": [
    "for i in range(2):\n",
    "    plt.hist(df['city'].where(df['opened'] == i), bins = 50)\n",
    "\n",
    "plt.legend()"
   ],
   "id": "7eaab253e904852a",
   "outputs": [
    {
     "name": "stderr",
     "output_type": "stream",
     "text": [
      "No artists with labels found to put in legend.  Note that artists whose label start with an underscore are ignored when legend() is called with no argument.\n"
     ]
    },
    {
     "data": {
      "text/plain": [
       "<matplotlib.legend.Legend at 0x2107711a190>"
      ]
     },
     "execution_count": 49,
     "metadata": {},
     "output_type": "execute_result"
    },
    {
     "data": {
      "text/plain": [
       "<Figure size 640x480 with 1 Axes>"
      ],
      "image/png": "[encoded data removed]"
     },
     "metadata": {},
     "output_type": "display_data"
    }
   ],
   "execution_count": 49
  },
  {
   "metadata": {},
   "cell_type": "markdown",
   "source": "Lets further test the normal distribution hypothesis with a QQ plot.",
   "id": "6de18f6e532e2fe1"
  },
  {
   "metadata": {
    "ExecuteTime": {
     "end_time": "2024-09-07T15:14:47.783691Z",
     "start_time": "2024-09-07T15:14:47.678212Z"
    }
   },
   "cell_type": "code",
   "source": [
    "# Data\n",
    "quantiles =  np.arange(0, 1, 0.01)\n",
    "opened = df['opened'] == True\n",
    "data_quantiles = df[opened]['city'].quantile(quantiles)\n",
    "\n",
    "# Reference\n",
    "std = df[opened]['city'].std()\n",
    "mean = df[opened]['city'].mean()\n",
    "rev = pd.DataFrame(np.random.normal(size=10000, loc = mean, scale=std))\n",
    "rev_quantiles = rev.quantile(quantiles)\n",
    "\n",
    "plt.scatter(rev_quantiles, data_quantiles)\n",
    "plt.title(\"QQ-Plot of City\")\n",
    "plt.axline([0,0],[200,200], color = 'red',linewidth=3)\n",
    "plt.show()\n"
   ],
   "id": "fbb8f1f22df22eeb",
   "outputs": [
    {
     "data": {
      "text/plain": [
       "<Figure size 640x480 with 1 Axes>"
      ],
      "image/png": "[encoded data removed]"
     },
     "metadata": {},
     "output_type": "display_data"
    }
   ],
   "execution_count": 50
  },
  {
   "metadata": {},
   "cell_type": "markdown",
   "source": "Looks very normal ;)",
   "id": "ad0d0c60eec3487d"
  },
  {
   "metadata": {
    "ExecuteTime": {
     "end_time": "2024-09-07T15:14:49.734999Z",
     "start_time": "2024-09-07T15:14:49.728121Z"
    }
   },
   "cell_type": "code",
   "source": "df['time'].min()",
   "id": "e7443ea9ee0d79b2",
   "outputs": [
    {
     "data": {
      "text/plain": [
       "Timestamp('2024-01-24 16:43:08')"
      ]
     },
     "execution_count": 51,
     "metadata": {},
     "output_type": "execute_result"
    }
   ],
   "execution_count": 51
  },
  {
   "metadata": {},
   "cell_type": "markdown",
   "source": [
    "# Weather api\n",
    "https://archive-api.open-meteo.com/v1/archive?latitude=47.3667&longitude=8.55&start_date=2024-01-01&end_date=2024-09-01&hourly=temperature_2m,relative_humidity_2m,apparent_temperature,precipitation,cloud_cover,wind_speed_10m,shortwave_radiation,is_day&timezone=Europe%2FBerlin\n",
    "\n",
    "Source: Zippenfenig, P. (2023). Open-Meteo.com Weather API [Computer software]. Zenodo. https://doi.org/10.5281/ZENODO.7970649\n",
    "\n",
    "Hersbach, H., Bell, B., Berrisford, P., Biavati, G., Horányi, A., Muñoz Sabater, J., Nicolas, J., Peubey, C., Radu, R., Rozum, I., Schepers, D., Simmons, A., Soci, C., Dee, D., Thépaut, J-N. (2023). ERA5 hourly data on single levels from 1940 to present [Data set]. ECMWF. https://doi.org/10.24381/cds.adbb2d47\n",
    "\n",
    "Muñoz Sabater, J. (2019). ERA5-Land hourly data from 2001 to present [Data set]. ECMWF. https://doi.org/10.24381/CDS.E2161BAC\n",
    "\n",
    "Schimanke S., Ridal M., Le Moigne P., Berggren L., Undén P., Randriamampianina R., Andrea U., Bazile E., Bertelsen A., Brousseau P., Dahlgren P., Edvinsson L., El Said A., Glinton M., Hopsch S., Isaksson L., Mladek R., Olsson E., Verrelle A., Wang Z.Q. (2021). CERRA sub-daily regional reanalysis data for Europe on single levels from 1984 to present [Data set]. ECMWF. https://doi.org/10.24381/CDS.622A565A"
   ],
   "id": "331509064119e7f4"
  },
  {
   "metadata": {
    "ExecuteTime": {
     "end_time": "2024-09-07T15:14:56.471336Z",
     "start_time": "2024-09-07T15:14:56.452694Z"
    }
   },
   "cell_type": "code",
   "source": [
    "df = pd.read_csv(\"data/weather2.csv\", header=2)\n",
    "df.head()"
   ],
   "id": "e2592cef5d7e9015",
   "outputs": [
    {
     "data": {
      "text/plain": [
       "               time  temperature_2m (°C)  relative_humidity_2m (%)  \\\n",
       "0  2024-01-01T00:00                  1.7                        89   \n",
       "1  2024-01-01T01:00                  3.1                        82   \n",
       "2  2024-01-01T02:00                  3.4                        80   \n",
       "3  2024-01-01T03:00                  2.7                        83   \n",
       "4  2024-01-01T04:00                  3.8                        75   \n",
       "\n",
       "   apparent_temperature (°C)  precipitation (mm)  cloud_cover (%)  \\\n",
       "0                       -1.5                 0.0                0   \n",
       "1                       -0.9                 0.0                0   \n",
       "2                       -0.8                 0.0               14   \n",
       "3                       -0.8                 0.0               82   \n",
       "4                       -0.4                 0.0               59   \n",
       "\n",
       "   wind_speed_10m (km/h)  shortwave_radiation (W/m²)  is_day ()  \n",
       "0                    7.1                         0.0          0  \n",
       "1                   13.2                         0.0          0  \n",
       "2                   14.4                         0.0          0  \n",
       "3                    9.7                         0.0          0  \n",
       "4                   14.0                         0.0          0  "
      ],
      "text/html": [
       "<div>\n",
       "<style scoped>\n",
       "    .dataframe tbody tr th:only-of-type {\n",
       "        vertical-align: middle;\n",
       "    }\n",
       "\n",
       "    .dataframe tbody tr th {\n",
       "        vertical-align: top;\n",
       "    }\n",
       "\n",
       "    .dataframe thead th {\n",
       "        text-align: right;\n",
       "    }\n",
       "</style>\n",
       "<table border=\"1\" class=\"dataframe\">\n",
       "  <thead>\n",
       "    <tr style=\"text-align: right;\">\n",
       "      <th></th>\n",
       "      <th>time</th>\n",
       "      <th>temperature_2m (°C)</th>\n",
       "      <th>relative_humidity_2m (%)</th>\n",
       "      <th>apparent_temperature (°C)</th>\n",
       "      <th>precipitation (mm)</th>\n",
       "      <th>cloud_cover (%)</th>\n",
       "      <th>wind_speed_10m (km/h)</th>\n",
       "      <th>shortwave_radiation (W/m²)</th>\n",
       "      <th>is_day ()</th>\n",
       "    </tr>\n",
       "  </thead>\n",
       "  <tbody>\n",
       "    <tr>\n",
       "      <th>0</th>\n",
       "      <td>2024-01-01T00:00</td>\n",
       "      <td>1.7</td>\n",
       "      <td>89</td>\n",
       "      <td>-1.5</td>\n",
       "      <td>0.0</td>\n",
       "      <td>0</td>\n",
       "      <td>7.1</td>\n",
       "      <td>0.0</td>\n",
       "      <td>0</td>\n",
       "    </tr>\n",
       "    <tr>\n",
       "      <th>1</th>\n",
       "      <td>2024-01-01T01:00</td>\n",
       "      <td>3.1</td>\n",
       "      <td>82</td>\n",
       "      <td>-0.9</td>\n",
       "      <td>0.0</td>\n",
       "      <td>0</td>\n",
       "      <td>13.2</td>\n",
       "      <td>0.0</td>\n",
       "      <td>0</td>\n",
       "    </tr>\n",
       "    <tr>\n",
       "      <th>2</th>\n",
       "      <td>2024-01-01T02:00</td>\n",
       "      <td>3.4</td>\n",
       "      <td>80</td>\n",
       "      <td>-0.8</td>\n",
       "      <td>0.0</td>\n",
       "      <td>14</td>\n",
       "      <td>14.4</td>\n",
       "      <td>0.0</td>\n",
       "      <td>0</td>\n",
       "    </tr>\n",
       "    <tr>\n",
       "      <th>3</th>\n",
       "      <td>2024-01-01T03:00</td>\n",
       "      <td>2.7</td>\n",
       "      <td>83</td>\n",
       "      <td>-0.8</td>\n",
       "      <td>0.0</td>\n",
       "      <td>82</td>\n",
       "      <td>9.7</td>\n",
       "      <td>0.0</td>\n",
       "      <td>0</td>\n",
       "    </tr>\n",
       "    <tr>\n",
       "      <th>4</th>\n",
       "      <td>2024-01-01T04:00</td>\n",
       "      <td>3.8</td>\n",
       "      <td>75</td>\n",
       "      <td>-0.4</td>\n",
       "      <td>0.0</td>\n",
       "      <td>59</td>\n",
       "      <td>14.0</td>\n",
       "      <td>0.0</td>\n",
       "      <td>0</td>\n",
       "    </tr>\n",
       "  </tbody>\n",
       "</table>\n",
       "</div>"
      ]
     },
     "execution_count": 52,
     "metadata": {},
     "output_type": "execute_result"
    }
   ],
   "execution_count": 52
  },
  {
   "metadata": {},
   "cell_type": "markdown",
   "source": "# Correlated features\n",
   "id": "8a74d56e57a0188f"
  },
  {
   "metadata": {
    "ExecuteTime": {
     "end_time": "2024-09-07T15:21:03.681575Z",
     "start_time": "2024-09-07T15:21:03.582591Z"
    }
   },
   "cell_type": "code",
   "source": [
    "corlist = X.corr().stack().reset_index()\n",
    "corlist.columns = ['Feature1', 'Feature2', 'cor']\n",
    "corlist['abs_cor'] = abs(corlist['cor'])\n",
    "corlist = corlist.where(corlist['Feature1'] !=  corlist['Feature2']).sort_values(by='abs_cor', ascending=False)\n",
    "print(corlist.where(corlist['abs_cor'] > 0.3).dropna(axis=0, how='any'))"
   ],
   "id": "7fde4a0252bf1633",
   "outputs": [
    {
     "name": "stdout",
     "output_type": "stream",
     "text": [
      "                       Feature1                    Feature2       cor  \\\n",
      "58    apparent_temperature (°C)         temperature_2m (°C)  0.989772   \n",
      "38          temperature_2m (°C)   apparent_temperature (°C)  0.989772   \n",
      "112                   is_day ()                      opened  0.768140   \n",
      "32                       opened                   is_day ()  0.768140   \n",
      "53     relative_humidity_2m (%)  shortwave_radiation (W/m²) -0.722841   \n",
      "103  shortwave_radiation (W/m²)    relative_humidity_2m (%) -0.722841   \n",
      "119                   is_day ()  shortwave_radiation (W/m²)  0.652273   \n",
      "109  shortwave_radiation (W/m²)                   is_day ()  0.652273   \n",
      "42          temperature_2m (°C)  shortwave_radiation (W/m²)  0.599938   \n",
      "102  shortwave_radiation (W/m²)         temperature_2m (°C)  0.599938   \n",
      "37          temperature_2m (°C)    relative_humidity_2m (%) -0.580931   \n",
      "47     relative_humidity_2m (%)         temperature_2m (°C) -0.580931   \n",
      "64    apparent_temperature (°C)  shortwave_radiation (W/m²)  0.558644   \n",
      "104  shortwave_radiation (W/m²)   apparent_temperature (°C)  0.558644   \n",
      "101  shortwave_radiation (W/m²)                      opened  0.493967   \n",
      "31                       opened  shortwave_radiation (W/m²)  0.493967   \n",
      "49     relative_humidity_2m (%)   apparent_temperature (°C) -0.486624   \n",
      "59    apparent_temperature (°C)    relative_humidity_2m (%) -0.486624   \n",
      "54     relative_humidity_2m (%)                   is_day () -0.485160   \n",
      "114                   is_day ()    relative_humidity_2m (%) -0.485160   \n",
      "113                   is_day ()         temperature_2m (°C)  0.432389   \n",
      "43          temperature_2m (°C)                   is_day ()  0.432389   \n",
      "26                       opened    relative_humidity_2m (%) -0.417728   \n",
      "46     relative_humidity_2m (%)                      opened -0.417728   \n",
      "23                       opened      minutes_since_midnight  0.410093   \n",
      "13       minutes_since_midnight                      opened  0.410093   \n",
      "115                   is_day ()   apparent_temperature (°C)  0.393673   \n",
      "65    apparent_temperature (°C)                   is_day ()  0.393673   \n",
      "15       minutes_since_midnight    relative_humidity_2m (%) -0.369362   \n",
      "45     relative_humidity_2m (%)      minutes_since_midnight -0.369362   \n",
      "73           precipitation (mm)             cloud_cover (%)  0.327701   \n",
      "83              cloud_cover (%)          precipitation (mm)  0.327701   \n",
      "\n",
      "      abs_cor  \n",
      "58   0.989772  \n",
      "38   0.989772  \n",
      "112  0.768140  \n",
      "32   0.768140  \n",
      "53   0.722841  \n",
      "103  0.722841  \n",
      "119  0.652273  \n",
      "109  0.652273  \n",
      "42   0.599938  \n",
      "102  0.599938  \n",
      "37   0.580931  \n",
      "47   0.580931  \n",
      "64   0.558644  \n",
      "104  0.558644  \n",
      "101  0.493967  \n",
      "31   0.493967  \n",
      "49   0.486624  \n",
      "59   0.486624  \n",
      "54   0.485160  \n",
      "114  0.485160  \n",
      "113  0.432389  \n",
      "43   0.432389  \n",
      "26   0.417728  \n",
      "46   0.417728  \n",
      "23   0.410093  \n",
      "13   0.410093  \n",
      "115  0.393673  \n",
      "65   0.393673  \n",
      "15   0.369362  \n",
      "45   0.369362  \n",
      "73   0.327701  \n",
      "83   0.327701  \n"
     ]
    }
   ],
   "execution_count": 61
  },
  {
   "metadata": {},
   "cell_type": "markdown",
   "source": [
    "# Feature engineering\n",
    "Not realy x but i am to lazy to correct\n"
   ],
   "id": "bddb1851e172b492"
  },
  {
   "metadata": {
    "ExecuteTime": {
     "end_time": "2024-09-07T15:30:31.892984Z",
     "start_time": "2024-09-07T15:30:31.837713Z"
    }
   },
   "cell_type": "code",
   "source": [
    "# Feature engineering\n",
    "# Feature opened provide much information -> should be learned by model\n",
    "X_cor = df\n",
    "# combine windspeed and temperature https://www.meteoswiss.admin.ch/weather/weather-and-climate-from-a-to-z/wind-chill.html\n",
    "# \"Apparent temperature is the perceived feels-like temperature combining wind chill factor, relative humidity and solar radiation\" - Open-meteo.com --> meaning that we can drop rh, temp, solar radiation, windspeed\n",
    "X_cor = X_cor.drop(['temperature_2m (°C)', 'wind_speed_10m (km/h)', 'relative_humidity_2m (%)','shortwave_radiation (W/m²)', 'is_day ()','opened','oerlikon','time'], axis=1)\n",
    "\n",
    "# Correct for humidity via relative heat index https://en.wikipedia.org/wiki/Heat_index\n",
    "corlist = X_cor.drop(['city'], axis =1).corr().stack().reset_index()\n",
    "corlist.columns = ['Feature1', 'Feature2', 'cor']\n",
    "corlist['abs_cor'] = abs(corlist['cor'])\n",
    "corlist = corlist.where(corlist['Feature1'] !=  corlist['Feature2']).sort_values(by='abs_cor', ascending=False)\n",
    "print(corlist.where(corlist['abs_cor'] > 0.3).dropna(axis=0, how='any'))\n",
    "\n"
   ],
   "id": "b6bf485064222c03",
   "outputs": [
    {
     "name": "stdout",
     "output_type": "stream",
     "text": [
      "              Feature1            Feature2       cor   abs_cor\n",
      "23     cloud_cover (%)  precipitation (mm)  0.327701  0.327701\n",
      "19  precipitation (mm)     cloud_cover (%)  0.327701  0.327701\n"
     ]
    }
   ],
   "execution_count": 78
  },
  {
   "metadata": {},
   "cell_type": "markdown",
   "source": "All corelations above 0.33 have been elimnated",
   "id": "4c5a77689533cbde"
  },
  {
   "metadata": {
    "ExecuteTime": {
     "end_time": "2024-09-07T15:30:40.429818Z",
     "start_time": "2024-09-07T15:30:39.617536Z"
    }
   },
   "cell_type": "code",
   "source": "X_cor.to_csv(\"data/uncor_features.csv\", index=False)",
   "id": "8ec0c967a7f82d24",
   "outputs": [],
   "execution_count": 79
  },
  {
   "metadata": {},
   "cell_type": "code",
   "outputs": [],
   "execution_count": null,
   "source": "",
   "id": "140a067225c35596"
  }
 ],
 "metadata": {
  "kernelspec": {
   "display_name": "Python 3",
   "language": "python",
   "name": "python3"
  },
  "language_info": {
   "codemirror_mode": {
    "name": "ipython",
    "version": 2
   },
   "file_extension": ".py",
   "mimetype": "text/x-python",
   "name": "python",
   "nbconvert_exporter": "python",
   "pygments_lexer": "ipython2",
   "version": "2.7.6"
  }
 },
 "nbformat": 4,
 "nbformat_minor": 5
}
