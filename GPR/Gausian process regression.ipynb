{
 "cells": [
  {
   "metadata": {},
   "cell_type": "markdown",
   "source": "# Gaussian process regression",
   "id": "bdaffd152c1f44b5"
  },
  {
   "metadata": {
    "ExecuteTime": {
     "end_time": "2024-09-09T12:38:46.487610Z",
     "start_time": "2024-09-09T12:38:45.742850Z"
    }
   },
   "cell_type": "code",
   "source": [
    "import pandas as pd\n",
    "from sklearn.gaussian_process import GaussianProcessRegressor\n",
    "from sklearn.model_selection import train_test_split\n",
    "df = pd.read_csv(\"../data/finalData2.csv\")\n",
    "df['time'] = pd.to_datetime(df['time'])\n",
    "df.drop(['oerlikon', 'time', 'Unnamed: 0'], inplace=True, axis = 1)\n",
    "X,y = df.drop('city', axis = 1), df['city']\n",
    "X_train, X_test, y_train, y_test = train_test_split(X.astype(float), y.astype(float), test_size=0.33, random_state=42)"
   ],
   "id": "8af8497e2935f4ca",
   "outputs": [],
   "execution_count": 13
  },
  {
   "metadata": {},
   "cell_type": "markdown",
   "source": "",
   "id": "a89b5ab4a61b5676"
  },
  {
   "metadata": {
    "ExecuteTime": {
     "end_time": "2024-09-09T12:43:28.625005Z",
     "start_time": "2024-09-09T12:43:28.559440Z"
    }
   },
   "cell_type": "code",
   "source": [
    "reg = GaussianProcessRegressor(copy_X_train= False, random_state=42)\n",
    "reg.fit(X_train, y_train)"
   ],
   "id": "e590f04e80469d20",
   "outputs": [
    {
     "ename": "MemoryError",
     "evalue": "Unable to allocate 570. GiB for an array with shape (276576, 276576) and data type float64",
     "output_type": "error",
     "traceback": [
      "\u001B[1;31m---------------------------------------------------------------------------\u001B[0m",
      "\u001B[1;31mMemoryError\u001B[0m                               Traceback (most recent call last)",
      "Cell \u001B[1;32mIn[15], line 2\u001B[0m\n\u001B[0;32m      1\u001B[0m reg \u001B[38;5;241m=\u001B[39m GaussianProcessRegressor(copy_X_train\u001B[38;5;241m=\u001B[39m \u001B[38;5;28;01mFalse\u001B[39;00m, random_state\u001B[38;5;241m=\u001B[39m\u001B[38;5;241m42\u001B[39m)\n\u001B[1;32m----> 2\u001B[0m \u001B[43mreg\u001B[49m\u001B[38;5;241;43m.\u001B[39;49m\u001B[43mfit\u001B[49m\u001B[43m(\u001B[49m\u001B[43mX_train\u001B[49m\u001B[43m,\u001B[49m\u001B[43m \u001B[49m\u001B[43my_train\u001B[49m\u001B[43m)\u001B[49m\n",
      "File \u001B[1;32m~\\AppData\\Local\\Programs\\Python\\Python311\\Lib\\site-packages\\sklearn\\base.py:1473\u001B[0m, in \u001B[0;36m_fit_context.<locals>.decorator.<locals>.wrapper\u001B[1;34m(estimator, *args, **kwargs)\u001B[0m\n\u001B[0;32m   1466\u001B[0m     estimator\u001B[38;5;241m.\u001B[39m_validate_params()\n\u001B[0;32m   1468\u001B[0m \u001B[38;5;28;01mwith\u001B[39;00m config_context(\n\u001B[0;32m   1469\u001B[0m     skip_parameter_validation\u001B[38;5;241m=\u001B[39m(\n\u001B[0;32m   1470\u001B[0m         prefer_skip_nested_validation \u001B[38;5;129;01mor\u001B[39;00m global_skip_validation\n\u001B[0;32m   1471\u001B[0m     )\n\u001B[0;32m   1472\u001B[0m ):\n\u001B[1;32m-> 1473\u001B[0m     \u001B[38;5;28;01mreturn\u001B[39;00m \u001B[43mfit_method\u001B[49m\u001B[43m(\u001B[49m\u001B[43mestimator\u001B[49m\u001B[43m,\u001B[49m\u001B[43m \u001B[49m\u001B[38;5;241;43m*\u001B[39;49m\u001B[43margs\u001B[49m\u001B[43m,\u001B[49m\u001B[43m \u001B[49m\u001B[38;5;241;43m*\u001B[39;49m\u001B[38;5;241;43m*\u001B[39;49m\u001B[43mkwargs\u001B[49m\u001B[43m)\u001B[49m\n",
      "File \u001B[1;32m~\\AppData\\Local\\Programs\\Python\\Python311\\Lib\\site-packages\\sklearn\\gaussian_process\\_gpr.py:335\u001B[0m, in \u001B[0;36mGaussianProcessRegressor.fit\u001B[1;34m(self, X, y)\u001B[0m\n\u001B[0;32m    333\u001B[0m     \u001B[38;5;28mself\u001B[39m\u001B[38;5;241m.\u001B[39mlog_marginal_likelihood_value_ \u001B[38;5;241m=\u001B[39m \u001B[38;5;241m-\u001B[39mnp\u001B[38;5;241m.\u001B[39mmin(lml_values)\n\u001B[0;32m    334\u001B[0m \u001B[38;5;28;01melse\u001B[39;00m:\n\u001B[1;32m--> 335\u001B[0m     \u001B[38;5;28mself\u001B[39m\u001B[38;5;241m.\u001B[39mlog_marginal_likelihood_value_ \u001B[38;5;241m=\u001B[39m \u001B[38;5;28;43mself\u001B[39;49m\u001B[38;5;241;43m.\u001B[39;49m\u001B[43mlog_marginal_likelihood\u001B[49m\u001B[43m(\u001B[49m\n\u001B[0;32m    336\u001B[0m \u001B[43m        \u001B[49m\u001B[38;5;28;43mself\u001B[39;49m\u001B[38;5;241;43m.\u001B[39;49m\u001B[43mkernel_\u001B[49m\u001B[38;5;241;43m.\u001B[39;49m\u001B[43mtheta\u001B[49m\u001B[43m,\u001B[49m\u001B[43m \u001B[49m\u001B[43mclone_kernel\u001B[49m\u001B[38;5;241;43m=\u001B[39;49m\u001B[38;5;28;43;01mFalse\u001B[39;49;00m\n\u001B[0;32m    337\u001B[0m \u001B[43m    \u001B[49m\u001B[43m)\u001B[49m\n\u001B[0;32m    339\u001B[0m \u001B[38;5;66;03m# Precompute quantities required for predictions which are independent\u001B[39;00m\n\u001B[0;32m    340\u001B[0m \u001B[38;5;66;03m# of actual query points\u001B[39;00m\n\u001B[0;32m    341\u001B[0m \u001B[38;5;66;03m# Alg. 2.1, page 19, line 2 -> L = cholesky(K + sigma^2 I)\u001B[39;00m\n\u001B[0;32m    342\u001B[0m K \u001B[38;5;241m=\u001B[39m \u001B[38;5;28mself\u001B[39m\u001B[38;5;241m.\u001B[39mkernel_(\u001B[38;5;28mself\u001B[39m\u001B[38;5;241m.\u001B[39mX_train_)\n",
      "File \u001B[1;32m~\\AppData\\Local\\Programs\\Python\\Python311\\Lib\\site-packages\\sklearn\\gaussian_process\\_gpr.py:578\u001B[0m, in \u001B[0;36mGaussianProcessRegressor.log_marginal_likelihood\u001B[1;34m(self, theta, eval_gradient, clone_kernel)\u001B[0m\n\u001B[0;32m    576\u001B[0m     K, K_gradient \u001B[38;5;241m=\u001B[39m kernel(\u001B[38;5;28mself\u001B[39m\u001B[38;5;241m.\u001B[39mX_train_, eval_gradient\u001B[38;5;241m=\u001B[39m\u001B[38;5;28;01mTrue\u001B[39;00m)\n\u001B[0;32m    577\u001B[0m \u001B[38;5;28;01melse\u001B[39;00m:\n\u001B[1;32m--> 578\u001B[0m     K \u001B[38;5;241m=\u001B[39m \u001B[43mkernel\u001B[49m\u001B[43m(\u001B[49m\u001B[38;5;28;43mself\u001B[39;49m\u001B[38;5;241;43m.\u001B[39;49m\u001B[43mX_train_\u001B[49m\u001B[43m)\u001B[49m\n\u001B[0;32m    580\u001B[0m \u001B[38;5;66;03m# Alg. 2.1, page 19, line 2 -> L = cholesky(K + sigma^2 I)\u001B[39;00m\n\u001B[0;32m    581\u001B[0m K[np\u001B[38;5;241m.\u001B[39mdiag_indices_from(K)] \u001B[38;5;241m+\u001B[39m\u001B[38;5;241m=\u001B[39m \u001B[38;5;28mself\u001B[39m\u001B[38;5;241m.\u001B[39malpha\n",
      "File \u001B[1;32m~\\AppData\\Local\\Programs\\Python\\Python311\\Lib\\site-packages\\sklearn\\gaussian_process\\kernels.py:971\u001B[0m, in \u001B[0;36mProduct.__call__\u001B[1;34m(self, X, Y, eval_gradient)\u001B[0m\n\u001B[0;32m    967\u001B[0m     \u001B[38;5;28;01mreturn\u001B[39;00m K1 \u001B[38;5;241m*\u001B[39m K2, np\u001B[38;5;241m.\u001B[39mdstack(\n\u001B[0;32m    968\u001B[0m         (K1_gradient \u001B[38;5;241m*\u001B[39m K2[:, :, np\u001B[38;5;241m.\u001B[39mnewaxis], K2_gradient \u001B[38;5;241m*\u001B[39m K1[:, :, np\u001B[38;5;241m.\u001B[39mnewaxis])\n\u001B[0;32m    969\u001B[0m     )\n\u001B[0;32m    970\u001B[0m \u001B[38;5;28;01melse\u001B[39;00m:\n\u001B[1;32m--> 971\u001B[0m     \u001B[38;5;28;01mreturn\u001B[39;00m \u001B[38;5;28;43mself\u001B[39;49m\u001B[38;5;241;43m.\u001B[39;49m\u001B[43mk1\u001B[49m\u001B[43m(\u001B[49m\u001B[43mX\u001B[49m\u001B[43m,\u001B[49m\u001B[43m \u001B[49m\u001B[43mY\u001B[49m\u001B[43m)\u001B[49m \u001B[38;5;241m*\u001B[39m \u001B[38;5;28mself\u001B[39m\u001B[38;5;241m.\u001B[39mk2(X, Y)\n",
      "File \u001B[1;32m~\\AppData\\Local\\Programs\\Python\\Python311\\Lib\\site-packages\\sklearn\\gaussian_process\\kernels.py:1278\u001B[0m, in \u001B[0;36mConstantKernel.__call__\u001B[1;34m(self, X, Y, eval_gradient)\u001B[0m\n\u001B[0;32m   1275\u001B[0m \u001B[38;5;28;01melif\u001B[39;00m eval_gradient:\n\u001B[0;32m   1276\u001B[0m     \u001B[38;5;28;01mraise\u001B[39;00m \u001B[38;5;167;01mValueError\u001B[39;00m(\u001B[38;5;124m\"\u001B[39m\u001B[38;5;124mGradient can only be evaluated when Y is None.\u001B[39m\u001B[38;5;124m\"\u001B[39m)\n\u001B[1;32m-> 1278\u001B[0m K \u001B[38;5;241m=\u001B[39m \u001B[43mnp\u001B[49m\u001B[38;5;241;43m.\u001B[39;49m\u001B[43mfull\u001B[49m\u001B[43m(\u001B[49m\n\u001B[0;32m   1279\u001B[0m \u001B[43m    \u001B[49m\u001B[43m(\u001B[49m\u001B[43m_num_samples\u001B[49m\u001B[43m(\u001B[49m\u001B[43mX\u001B[49m\u001B[43m)\u001B[49m\u001B[43m,\u001B[49m\u001B[43m \u001B[49m\u001B[43m_num_samples\u001B[49m\u001B[43m(\u001B[49m\u001B[43mY\u001B[49m\u001B[43m)\u001B[49m\u001B[43m)\u001B[49m\u001B[43m,\u001B[49m\n\u001B[0;32m   1280\u001B[0m \u001B[43m    \u001B[49m\u001B[38;5;28;43mself\u001B[39;49m\u001B[38;5;241;43m.\u001B[39;49m\u001B[43mconstant_value\u001B[49m\u001B[43m,\u001B[49m\n\u001B[0;32m   1281\u001B[0m \u001B[43m    \u001B[49m\u001B[43mdtype\u001B[49m\u001B[38;5;241;43m=\u001B[39;49m\u001B[43mnp\u001B[49m\u001B[38;5;241;43m.\u001B[39;49m\u001B[43marray\u001B[49m\u001B[43m(\u001B[49m\u001B[38;5;28;43mself\u001B[39;49m\u001B[38;5;241;43m.\u001B[39;49m\u001B[43mconstant_value\u001B[49m\u001B[43m)\u001B[49m\u001B[38;5;241;43m.\u001B[39;49m\u001B[43mdtype\u001B[49m\u001B[43m,\u001B[49m\n\u001B[0;32m   1282\u001B[0m \u001B[43m\u001B[49m\u001B[43m)\u001B[49m\n\u001B[0;32m   1283\u001B[0m \u001B[38;5;28;01mif\u001B[39;00m eval_gradient:\n\u001B[0;32m   1284\u001B[0m     \u001B[38;5;28;01mif\u001B[39;00m \u001B[38;5;129;01mnot\u001B[39;00m \u001B[38;5;28mself\u001B[39m\u001B[38;5;241m.\u001B[39mhyperparameter_constant_value\u001B[38;5;241m.\u001B[39mfixed:\n",
      "File \u001B[1;32m~\\AppData\\Local\\Programs\\Python\\Python311\\Lib\\site-packages\\numpy\\core\\numeric.py:329\u001B[0m, in \u001B[0;36mfull\u001B[1;34m(shape, fill_value, dtype, order, like)\u001B[0m\n\u001B[0;32m    327\u001B[0m     fill_value \u001B[38;5;241m=\u001B[39m asarray(fill_value)\n\u001B[0;32m    328\u001B[0m     dtype \u001B[38;5;241m=\u001B[39m fill_value\u001B[38;5;241m.\u001B[39mdtype\n\u001B[1;32m--> 329\u001B[0m a \u001B[38;5;241m=\u001B[39m empty(shape, dtype, order)\n\u001B[0;32m    330\u001B[0m multiarray\u001B[38;5;241m.\u001B[39mcopyto(a, fill_value, casting\u001B[38;5;241m=\u001B[39m\u001B[38;5;124m'\u001B[39m\u001B[38;5;124munsafe\u001B[39m\u001B[38;5;124m'\u001B[39m)\n\u001B[0;32m    331\u001B[0m \u001B[38;5;28;01mreturn\u001B[39;00m a\n",
      "\u001B[1;31mMemoryError\u001B[0m: Unable to allocate 570. GiB for an array with shape (276576, 276576) and data type float64"
     ]
    }
   ],
   "execution_count": 15
  },
  {
   "metadata": {
    "ExecuteTime": {
     "end_time": "2024-09-09T12:36:55.261340Z",
     "start_time": "2024-09-09T12:36:55.252623Z"
    }
   },
   "cell_type": "code",
   "source": "X_train.shape",
   "id": "9e1daa753bd4cf24",
   "outputs": [
    {
     "data": {
      "text/plain": [
       "(276576, 11)"
      ]
     },
     "execution_count": 7,
     "metadata": {},
     "output_type": "execute_result"
    }
   ],
   "execution_count": 7
  },
  {
   "metadata": {
    "ExecuteTime": {
     "end_time": "2024-09-09T12:37:04.297358Z",
     "start_time": "2024-09-09T12:37:04.289097Z"
    }
   },
   "cell_type": "code",
   "source": "y_train.shape",
   "id": "c671d24dc98a0058",
   "outputs": [
    {
     "data": {
      "text/plain": [
       "(276576,)"
      ]
     },
     "execution_count": 9,
     "metadata": {},
     "output_type": "execute_result"
    }
   ],
   "execution_count": 9
  },
  {
   "metadata": {},
   "cell_type": "code",
   "outputs": [],
   "execution_count": null,
   "source": "",
   "id": "597ca647efe53b21"
  }
 ],
 "metadata": {
  "kernelspec": {
   "display_name": "Python 3",
   "language": "python",
   "name": "python3"
  },
  "language_info": {
   "codemirror_mode": {
    "name": "ipython",
    "version": 2
   },
   "file_extension": ".py",
   "mimetype": "text/x-python",
   "name": "python",
   "nbconvert_exporter": "python",
   "pygments_lexer": "ipython2",
   "version": "2.7.6"
  }
 },
 "nbformat": 4,
 "nbformat_minor": 5
}
