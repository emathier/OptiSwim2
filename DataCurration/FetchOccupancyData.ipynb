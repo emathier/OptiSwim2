{
 "cells": [
  {
   "cell_type": "markdown",
   "id": "8a77807f92f26ee",
   "metadata": {},
   "source": [
    "# Fetches data from Server\n",
    "\n",
    "\n"
   ]
  },
  {
   "cell_type": "code",
   "execution_count": 7,
   "id": "5762ec6208642964",
   "metadata": {
    "ExecuteTime": {
     "end_time": "2024-08-31T14:20:51.189646Z",
     "start_time": "2024-08-31T14:20:42.538906Z"
    }
   },
   "outputs": [
    {
     "name": "stdout",
     "output_type": "stream",
     "text": [
      "Successfully fetched data with dim1238403\n",
      "Successfully saved data to data/occupancy.csv\n"
     ]
    }
   ],
   "source": [
    "import mysql.connector as connection\n",
    "import pandas as pd\n",
    "import warnings\n",
    "import os\n",
    "form dotenv import load_dotenv\n",
    "\n",
    "load_dotenv()\n",
    "warnings.filterwarnings(\"ignore\")\n",
    "try:\n",
    "    mydb = connection.connect(host=\"optiswim.duckdns.org\", database = 'optiSwim',user=os.getenv(\"MYSQL_USER\"), passwd=os.getenv(\"MYSQL_PWD\"),use_pure=True)\n",
    "    query = \"Select * from currentfill ORDER BY time;\"\n",
    "    df = pd.read_sql(query,mydb)\n",
    "    mydb.close() #close the connection\n",
    "except Exception as e:\n",
    "    mydb.close()\n",
    "    print(str(e))\n",
    "    \n",
    "\n",
    "print(f\"Successfully fetched data with dim{df.size}\")\n",
    "df.to_csv(\"data/occupancy.csv\")\n",
    "print(f\"Successfully saved data to data/occupancy.csv\") "
   ]
  },
  {
   "cell_type": "code",
   "execution_count": null,
   "id": "621e096f8af325c7",
   "metadata": {},
   "outputs": [],
   "source": []
  }
 ],
 "metadata": {
  "kernelspec": {
   "display_name": "Python 3",
   "language": "python",
   "name": "python3"
  },
  "language_info": {
   "codemirror_mode": {
    "name": "ipython",
    "version": 2
   },
   "file_extension": ".py",
   "mimetype": "text/x-python",
   "name": "python",
   "nbconvert_exporter": "python",
   "pygments_lexer": "ipython2",
   "version": "3.12.7"
  }
 },
 "nbformat": 4,
 "nbformat_minor": 5
}
