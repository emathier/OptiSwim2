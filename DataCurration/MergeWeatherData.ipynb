{
 "cells": [
  {
   "metadata": {},
   "cell_type": "markdown",
   "source": "# Merge weather data into base_features.csv\n",
   "id": "2f7310d705483a50"
  },
  {
   "cell_type": "code",
   "id": "initial_id",
   "metadata": {
    "collapsed": true,
    "ExecuteTime": {
     "end_time": "2024-09-07T14:53:42.351777Z",
     "start_time": "2024-09-07T14:53:41.457561Z"
    }
   },
   "source": [
    "import pandas as pd\n",
    "dfw = pd.read_csv(\"data/weather2.csv\", header=2)\n",
    "dfw['time'] = pd.to_datetime(dfw['time'])\n",
    "df = pd.read_csv(\"data/base_features.csv\")\n",
    "df['time'] = pd.to_datetime(df['time'])\n",
    "df.head()"
   ],
   "outputs": [
    {
     "data": {
      "text/plain": [
       "   Unnamed: 0.1  Unnamed: 0                time  city  oerlikon  weekday  \\\n",
       "0             0           0 2024-01-24 16:43:08   155       140        2   \n",
       "1             1           1 2024-01-24 16:43:38   154       140        2   \n",
       "2             2           2 2024-01-24 16:45:31   163       140        2   \n",
       "3             3           3 2024-01-24 16:46:02   163       141        2   \n",
       "4             4           4 2024-01-24 16:46:32   162       143        2   \n",
       "\n",
       "    daytime  minutes_since_midnight  opened  \n",
       "0  16:43:08                    1003    True  \n",
       "1  16:43:38                    1003    True  \n",
       "2  16:45:31                    1005    True  \n",
       "3  16:46:02                    1006    True  \n",
       "4  16:46:32                    1006    True  "
      ],
      "text/html": [
       "<div>\n",
       "<style scoped>\n",
       "    .dataframe tbody tr th:only-of-type {\n",
       "        vertical-align: middle;\n",
       "    }\n",
       "\n",
       "    .dataframe tbody tr th {\n",
       "        vertical-align: top;\n",
       "    }\n",
       "\n",
       "    .dataframe thead th {\n",
       "        text-align: right;\n",
       "    }\n",
       "</style>\n",
       "<table border=\"1\" class=\"dataframe\">\n",
       "  <thead>\n",
       "    <tr style=\"text-align: right;\">\n",
       "      <th></th>\n",
       "      <th>Unnamed: 0.1</th>\n",
       "      <th>Unnamed: 0</th>\n",
       "      <th>time</th>\n",
       "      <th>city</th>\n",
       "      <th>oerlikon</th>\n",
       "      <th>weekday</th>\n",
       "      <th>daytime</th>\n",
       "      <th>minutes_since_midnight</th>\n",
       "      <th>opened</th>\n",
       "    </tr>\n",
       "  </thead>\n",
       "  <tbody>\n",
       "    <tr>\n",
       "      <th>0</th>\n",
       "      <td>0</td>\n",
       "      <td>0</td>\n",
       "      <td>2024-01-24 16:43:08</td>\n",
       "      <td>155</td>\n",
       "      <td>140</td>\n",
       "      <td>2</td>\n",
       "      <td>16:43:08</td>\n",
       "      <td>1003</td>\n",
       "      <td>True</td>\n",
       "    </tr>\n",
       "    <tr>\n",
       "      <th>1</th>\n",
       "      <td>1</td>\n",
       "      <td>1</td>\n",
       "      <td>2024-01-24 16:43:38</td>\n",
       "      <td>154</td>\n",
       "      <td>140</td>\n",
       "      <td>2</td>\n",
       "      <td>16:43:38</td>\n",
       "      <td>1003</td>\n",
       "      <td>True</td>\n",
       "    </tr>\n",
       "    <tr>\n",
       "      <th>2</th>\n",
       "      <td>2</td>\n",
       "      <td>2</td>\n",
       "      <td>2024-01-24 16:45:31</td>\n",
       "      <td>163</td>\n",
       "      <td>140</td>\n",
       "      <td>2</td>\n",
       "      <td>16:45:31</td>\n",
       "      <td>1005</td>\n",
       "      <td>True</td>\n",
       "    </tr>\n",
       "    <tr>\n",
       "      <th>3</th>\n",
       "      <td>3</td>\n",
       "      <td>3</td>\n",
       "      <td>2024-01-24 16:46:02</td>\n",
       "      <td>163</td>\n",
       "      <td>141</td>\n",
       "      <td>2</td>\n",
       "      <td>16:46:02</td>\n",
       "      <td>1006</td>\n",
       "      <td>True</td>\n",
       "    </tr>\n",
       "    <tr>\n",
       "      <th>4</th>\n",
       "      <td>4</td>\n",
       "      <td>4</td>\n",
       "      <td>2024-01-24 16:46:32</td>\n",
       "      <td>162</td>\n",
       "      <td>143</td>\n",
       "      <td>2</td>\n",
       "      <td>16:46:32</td>\n",
       "      <td>1006</td>\n",
       "      <td>True</td>\n",
       "    </tr>\n",
       "  </tbody>\n",
       "</table>\n",
       "</div>"
      ]
     },
     "execution_count": 1,
     "metadata": {},
     "output_type": "execute_result"
    }
   ],
   "execution_count": 1
  },
  {
   "metadata": {
    "ExecuteTime": {
     "end_time": "2024-09-01T14:40:03.540822Z",
     "start_time": "2024-09-01T14:40:03.526925Z"
    }
   },
   "cell_type": "code",
   "source": "dfw.head()",
   "id": "4e98d499a09acf5e",
   "outputs": [
    {
     "data": {
      "text/plain": [
       "                 time  temperature_2m (°C)  relative_humidity_2m (%)  \\\n",
       "0 2024-01-01 00:00:00                  1.7                        89   \n",
       "1 2024-01-01 01:00:00                  3.1                        82   \n",
       "2 2024-01-01 02:00:00                  3.4                        80   \n",
       "3 2024-01-01 03:00:00                  2.7                        83   \n",
       "4 2024-01-01 04:00:00                  3.8                        75   \n",
       "\n",
       "   rain (mm)  cloud_cover (%)  wind_speed_10m (km/h)  \n",
       "0        0.0                0                    7.1  \n",
       "1        0.0                0                   13.2  \n",
       "2        0.0               14                   14.4  \n",
       "3        0.0               82                    9.7  \n",
       "4        0.0               59                   14.0  "
      ],
      "text/html": [
       "<div>\n",
       "<style scoped>\n",
       "    .dataframe tbody tr th:only-of-type {\n",
       "        vertical-align: middle;\n",
       "    }\n",
       "\n",
       "    .dataframe tbody tr th {\n",
       "        vertical-align: top;\n",
       "    }\n",
       "\n",
       "    .dataframe thead th {\n",
       "        text-align: right;\n",
       "    }\n",
       "</style>\n",
       "<table border=\"1\" class=\"dataframe\">\n",
       "  <thead>\n",
       "    <tr style=\"text-align: right;\">\n",
       "      <th></th>\n",
       "      <th>time</th>\n",
       "      <th>temperature_2m (°C)</th>\n",
       "      <th>relative_humidity_2m (%)</th>\n",
       "      <th>rain (mm)</th>\n",
       "      <th>cloud_cover (%)</th>\n",
       "      <th>wind_speed_10m (km/h)</th>\n",
       "    </tr>\n",
       "  </thead>\n",
       "  <tbody>\n",
       "    <tr>\n",
       "      <th>0</th>\n",
       "      <td>2024-01-01 00:00:00</td>\n",
       "      <td>1.7</td>\n",
       "      <td>89</td>\n",
       "      <td>0.0</td>\n",
       "      <td>0</td>\n",
       "      <td>7.1</td>\n",
       "    </tr>\n",
       "    <tr>\n",
       "      <th>1</th>\n",
       "      <td>2024-01-01 01:00:00</td>\n",
       "      <td>3.1</td>\n",
       "      <td>82</td>\n",
       "      <td>0.0</td>\n",
       "      <td>0</td>\n",
       "      <td>13.2</td>\n",
       "    </tr>\n",
       "    <tr>\n",
       "      <th>2</th>\n",
       "      <td>2024-01-01 02:00:00</td>\n",
       "      <td>3.4</td>\n",
       "      <td>80</td>\n",
       "      <td>0.0</td>\n",
       "      <td>14</td>\n",
       "      <td>14.4</td>\n",
       "    </tr>\n",
       "    <tr>\n",
       "      <th>3</th>\n",
       "      <td>2024-01-01 03:00:00</td>\n",
       "      <td>2.7</td>\n",
       "      <td>83</td>\n",
       "      <td>0.0</td>\n",
       "      <td>82</td>\n",
       "      <td>9.7</td>\n",
       "    </tr>\n",
       "    <tr>\n",
       "      <th>4</th>\n",
       "      <td>2024-01-01 04:00:00</td>\n",
       "      <td>3.8</td>\n",
       "      <td>75</td>\n",
       "      <td>0.0</td>\n",
       "      <td>59</td>\n",
       "      <td>14.0</td>\n",
       "    </tr>\n",
       "  </tbody>\n",
       "</table>\n",
       "</div>"
      ]
     },
     "execution_count": 80,
     "metadata": {},
     "output_type": "execute_result"
    }
   ],
   "execution_count": 80
  },
  {
   "metadata": {},
   "cell_type": "markdown",
   "source": [
    "# Merging using linear interpolation between to known values.\n",
    "Because the weather api data is hourly we need to interpolate the weather to adjust it to the exact times in the database."
   ],
   "id": "3528dc37554a0f98"
  },
  {
   "metadata": {
    "ExecuteTime": {
     "end_time": "2024-09-07T14:58:22.113695Z",
     "start_time": "2024-09-07T14:54:23.093276Z"
    }
   },
   "cell_type": "code",
   "source": [
    "import tqdm\n",
    "for i in [col for col in dfw.columns if col not in  ['time','datetime'] ]:\n",
    "    df[i] = -1.0\n",
    "\n",
    "pointer_weather, pointer_features = 0, 0\n",
    "\n",
    "for pointer_features in tqdm.tqdm(range(df.shape[0])):\n",
    "    while df.iloc[pointer_features,2] > dfw.iloc[pointer_weather,0]:\n",
    "        pointer_weather += 1\n",
    "        \n",
    "    t = df.iloc[pointer_features,2].timestamp()\n",
    "    start = dfw.iloc[pointer_weather - 1,0].timestamp()\n",
    "    stop = dfw.iloc[pointer_weather,0].timestamp()\n",
    "    delta = (t - start) / (stop - start)\n",
    "    for i in [col for col in dfw.columns if col != 'time' ]:\n",
    "        df.loc[pointer_features,i] = dfw.loc[pointer_weather-1,i] + (dfw.loc[pointer_weather,i] - dfw.loc[pointer_weather-1,i]) * delta\n",
    "    \n",
    "\n"
   ],
   "id": "aeae85b7b8a1546a",
   "outputs": [
    {
     "name": "stderr",
     "output_type": "stream",
     "text": [
      "100%|██████████| 412801/412801 [03:58<00:00, 1727.26it/s]\n"
     ]
    }
   ],
   "execution_count": 2
  },
  {
   "metadata": {},
   "cell_type": "markdown",
   "source": "",
   "id": "4fd3ecac4b2a5bcd"
  },
  {
   "metadata": {
    "ExecuteTime": {
     "end_time": "2024-09-07T14:58:44.809662Z",
     "start_time": "2024-09-07T14:58:44.789810Z"
    }
   },
   "cell_type": "code",
   "source": "df = df.drop([\"Unnamed: 0.1\", \"Unnamed: 0\", \"daytime\"],axis=1)",
   "id": "102ca7e8938a6f1b",
   "outputs": [],
   "execution_count": 3
  },
  {
   "metadata": {
    "ExecuteTime": {
     "end_time": "2024-09-07T15:10:12.454579Z",
     "start_time": "2024-09-07T15:10:09.982896Z"
    }
   },
   "cell_type": "code",
   "source": "df.to_csv(\"data/finalData2.csv\")",
   "id": "6f33aa547dad4823",
   "outputs": [],
   "execution_count": 25
  },
  {
   "metadata": {
    "ExecuteTime": {
     "end_time": "2024-09-07T15:07:53.257823Z",
     "start_time": "2024-09-07T15:07:53.091620Z"
    }
   },
   "cell_type": "code",
   "source": [
    "mask = (df['time'].dt.date == pd.to_datetime(\"2024-02-05\").date())\n",
    "s = df[mask]\n",
    "import matplotlib.pyplot as plt\n",
    "plt.scatter(x = s['time'].values, y = s['temperature_2m (°C)'].values)"
   ],
   "id": "25ea0be7198e777a",
   "outputs": [
    {
     "data": {
      "text/plain": [
       "<matplotlib.collections.PathCollection at 0x21fdc9dad10>"
      ]
     },
     "execution_count": 23,
     "metadata": {},
     "output_type": "execute_result"
    },
    {
     "data": {
      "text/plain": [
       "<Figure size 640x480 with 1 Axes>"
      ],
      "image/png": "[encoded data removed]"
     },
     "metadata": {},
     "output_type": "display_data"
    }
   ],
   "execution_count": 23
  },
  {
   "metadata": {},
   "cell_type": "markdown",
   "source": "Looks good",
   "id": "dd6dd8e23b1f6def"
  },
  {
   "metadata": {},
   "cell_type": "code",
   "outputs": [],
   "execution_count": null,
   "source": "",
   "id": "3e32997465d9c1a1"
  }
 ],
 "metadata": {
  "kernelspec": {
   "display_name": "Python 3",
   "language": "python",
   "name": "python3"
  },
  "language_info": {
   "codemirror_mode": {
    "name": "ipython",
    "version": 2
   },
   "file_extension": ".py",
   "mimetype": "text/x-python",
   "name": "python",
   "nbconvert_exporter": "python",
   "pygments_lexer": "ipython2",
   "version": "2.7.6"
  }
 },
 "nbformat": 4,
 "nbformat_minor": 5
}
